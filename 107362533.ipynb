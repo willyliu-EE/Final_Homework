{
 "cells": [
  {
   "cell_type": "code",
   "execution_count": 9,
   "metadata": {},
   "outputs": [],
   "source": [
    "from datetime import datetime\n",
    "from elasticsearch import Elasticsearch\n",
    "import matplotlib.pyplot as plt\n",
    "import pandas as pd\n",
    "import requests\n",
    "import time"
   ]
  },
  {
   "cell_type": "code",
   "execution_count": null,
   "metadata": {},
   "outputs": [],
   "source": []
  },
  {
   "cell_type": "code",
   "execution_count": 10,
   "metadata": {},
   "outputs": [
    {
     "name": "stdout",
     "output_type": "stream",
     "text": [
      "{'first_name': 'John', 'last_name': 'Smith', 'age': 25, 'about': 'I love to go rock climbing', 'interests': ['sports', 'music']}\n",
      "{'first_name': 'John', 'last_name': 'Smith', 'age': 25, 'about': 'I love to go rock climbing', 'interests': ['sports', 'music']}\n",
      "{'first_name': 'Lebron', 'last_name': 'James', 'age': 37, 'about': 'I love to go rock climbing', 'interests': ['sports', 'music']}\n"
     ]
    }
   ],
   "source": [
    "ip = \"http://127.0.0.1:9200\"\n",
    "es =Elasticsearch(ip)\n",
    "data_array = []\n",
    "\n",
    "for i in range(2,5,1):\n",
    "    res = es.get(index=\"company\",id=i)\n",
    "    data_array.append(res)\n",
    "    print(res['_source'])\n",
    "\n",
    "# res = es.get(index=\"company\",id=2)\n",
    "# print(res['_source'])\n",
    "# res = es.get(index=\"company\",id=3)\n",
    "# print(res['_source'])\n",
    "\n",
    "\n",
    "\n"
   ]
  }
 ],
 "metadata": {
  "interpreter": {
   "hash": "f6ee426775bc09578bbc38a7a99abfbea5181a7a51116ee98ee644c66f54401c"
  },
  "kernelspec": {
   "display_name": "Python 3.9.7 64-bit ('base': conda)",
   "language": "python",
   "name": "python3"
  },
  "language_info": {
   "codemirror_mode": {
    "name": "ipython",
    "version": 3
   },
   "file_extension": ".py",
   "mimetype": "text/x-python",
   "name": "python",
   "nbconvert_exporter": "python",
   "pygments_lexer": "ipython3",
   "version": "3.9.7"
  },
  "orig_nbformat": 4
 },
 "nbformat": 4,
 "nbformat_minor": 2
}
